{
 "cells": [
  {
   "attachments": {},
   "cell_type": "markdown",
   "metadata": {},
   "source": [
    "# 3: Example of a Minimum Viable Product\n",
    "\n",
    "Here's an MVP solution that assesses a trading strategy for edge.\n",
    "\n",
    "Fund managers report their holdings every month. They don’t want to tell investors that they lost money on the latest meme stock.\n",
    "So they sell the meme stocks and buy higher-quality assets, like bonds.\n",
    "\n",
    "You might be able to take advantage of this effect by buying bonds toward the end of the month and selling them at the beginning."
   ]
  },
  {
   "cell_type": "code",
   "execution_count": 1,
   "metadata": {},
   "outputs": [
    {
     "ename": "ModuleNotFoundError",
     "evalue": "No module named 'openbb_terminal'",
     "output_type": "error",
     "traceback": [
      "\u001b[1;31m---------------------------------------------------------------------------\u001b[0m",
      "\u001b[1;31mModuleNotFoundError\u001b[0m                       Traceback (most recent call last)",
      "Cell \u001b[1;32mIn[1], line 4\u001b[0m\n\u001b[0;32m      1\u001b[0m \u001b[39mimport\u001b[39;00m \u001b[39mpandas\u001b[39;00m \u001b[39mas\u001b[39;00m \u001b[39mpd\u001b[39;00m\n\u001b[0;32m      2\u001b[0m \u001b[39mimport\u001b[39;00m \u001b[39mnumpy\u001b[39;00m \u001b[39mas\u001b[39;00m \u001b[39mnp\u001b[39;00m\n\u001b[1;32m----> 4\u001b[0m \u001b[39mfrom\u001b[39;00m \u001b[39mopenbb_terminal\u001b[39;00m\u001b[39m.\u001b[39;00m\u001b[39msdk\u001b[39;00m \u001b[39mimport\u001b[39;00m openbb\n\u001b[0;32m      6\u001b[0m tlt \u001b[39m=\u001b[39m openbb\u001b[39m.\u001b[39mstocks\u001b[39m.\u001b[39mload(\n\u001b[0;32m      7\u001b[0m     \u001b[39m\"\u001b[39m\u001b[39mTLT\u001b[39m\u001b[39m\"\u001b[39m,\n\u001b[0;32m      8\u001b[0m     start_date\u001b[39m=\u001b[39m\u001b[39m\"\u001b[39m\u001b[39m2002-01-01\u001b[39m\u001b[39m\"\u001b[39m,\n\u001b[0;32m      9\u001b[0m     end_date\u001b[39m=\u001b[39m\u001b[39m\"\u001b[39m\u001b[39m2022-06-30\u001b[39m\u001b[39m\"\u001b[39m\n\u001b[0;32m     10\u001b[0m )\n\u001b[0;32m     12\u001b[0m tlt[\u001b[39m\"\u001b[39m\u001b[39mlog_return\u001b[39m\u001b[39m\"\u001b[39m] \u001b[39m=\u001b[39m np\u001b[39m.\u001b[39mlog(\n\u001b[0;32m     13\u001b[0m     tlt[\u001b[39m'\u001b[39m\u001b[39mAdj Close\u001b[39m\u001b[39m'\u001b[39m] \u001b[39m/\u001b[39m tlt[\u001b[39m'\u001b[39m\u001b[39mAdj Close\u001b[39m\u001b[39m'\u001b[39m]\u001b[39m.\u001b[39mshift(\u001b[39m1\u001b[39m)\n\u001b[0;32m     14\u001b[0m )\n",
      "\u001b[1;31mModuleNotFoundError\u001b[0m: No module named 'openbb_terminal'"
     ]
    }
   ],
   "source": [
    "import pandas as pd\n",
    "import numpy as np\n",
    "\n",
    "from openbb_terminal.sdk import openbb\n",
    "\n",
    "tlt = openbb.stocks.load(\n",
    "    \"TLT\",\n",
    "    start_date=\"2002-01-01\",\n",
    "    end_date=\"2022-06-30\"\n",
    ")\n",
    "\n",
    "tlt[\"log_return\"] = np.log(\n",
    "    tlt['Adj Close'] / tlt['Adj Close'].shift(1)\n",
    ")\n",
    "\n",
    "tlt[\"day_of_month\"] = tlt.index.day\n",
    "tlt[\"year\"] = tlt.index.year\n",
    "\n",
    "grouped_by_day = tlt.groupby(\"day_of_month\").log_return.mean()\n",
    "\n",
    "grouped_by_day.plot.bar()"
   ]
  },
  {
   "attachments": {},
   "cell_type": "markdown",
   "metadata": {},
   "source": [
    "Sure enough, there's evidence that returns are negative during the first few days and positive during the last few days.\n",
    "\n",
    "Now build a naive strategy to test your hypothesis."
   ]
  },
  {
   "cell_type": "code",
   "execution_count": null,
   "metadata": {},
   "outputs": [],
   "source": [
    "tlt[\"first_week_returns\"] = 0.0\n",
    "wk_1 = tlt[tlt.day_of_month <= 7].log_return\n",
    "tlt.loc[tlt.day_of_month <= 7, \"first_week_returns\"] = wk_1\n",
    "\n",
    "tlt[\"last_week_returns\"] = 0.0\n",
    "wk_n = tlt[tlt.day_of_month >= 23].log_return\n",
    "tlt.loc[tlt.day_of_month >= 23, \"last_week_returns\"] = wk_n\n",
    "\n",
    "tlt[\"last_week_less_first_week\"] = (\n",
    "    tlt.last_week_returns - tlt.first_week_returns\n",
    ")\n",
    "\n",
    "(\n",
    "    tlt\n",
    "    .last_week_less_first_week\n",
    "    .cumsum()\n",
    "    .plot()\n",
    ")"
   ]
  },
  {
   "attachments": {},
   "cell_type": "markdown",
   "metadata": {},
   "source": [
    "Now that you have some confidence that the strategy is worth exploring, invest the extra time to backtest it."
   ]
  }
 ],
 "metadata": {
  "kernelspec": {
   "display_name": "base",
   "language": "python",
   "name": "python3"
  },
  "language_info": {
   "codemirror_mode": {
    "name": "ipython",
    "version": 3
   },
   "file_extension": ".py",
   "mimetype": "text/x-python",
   "name": "python",
   "nbconvert_exporter": "python",
   "pygments_lexer": "ipython3",
   "version": "3.10.9"
  },
  "orig_nbformat": 4
 },
 "nbformat": 4,
 "nbformat_minor": 2
}
